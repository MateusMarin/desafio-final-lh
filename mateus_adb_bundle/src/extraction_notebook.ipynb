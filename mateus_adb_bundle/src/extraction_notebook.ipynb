{
 "cells": [
  {
   "cell_type": "markdown",
   "metadata": {
    "application/vnd.databricks.v1+cell": {
     "cellMetadata": {},
     "inputWidgets": {},
     "nuid": "ee353e42-ff58-4955-9608-12865bd0950e",
     "showTitle": false,
     "title": ""
    }
   },
   "source": [
    "# Extraction notebook\n",
    "\n",
    "This notebook is responsible for the extraction of Sales tables from AdventureWorks database."
   ]
  },
  {
   "cell_type": "code",
   "execution_count": null,
   "metadata": {},
   "outputs": [
    {
     "name": "stdout",
     "output_type": "stream",
     "text": [
      "Requirement already satisfied: pymssql in /mnt/c/Users/Mateus/Documents/indicium/lighthouse/desafio-final-lh/.venv/lib/python3.11/site-packages (2.3.2)\n",
      "Note: you may need to restart the kernel to use updated packages.\n",
      "Requirement already satisfied: pandas in /mnt/c/Users/Mateus/Documents/indicium/lighthouse/desafio-final-lh/.venv/lib/python3.11/site-packages (2.2.3)\n",
      "Requirement already satisfied: SQLAlchemy==1.4.54 in /mnt/c/Users/Mateus/Documents/indicium/lighthouse/desafio-final-lh/.venv/lib/python3.11/site-packages (1.4.54)\n",
      "Requirement already satisfied: greenlet!=0.4.17 in /mnt/c/Users/Mateus/Documents/indicium/lighthouse/desafio-final-lh/.venv/lib/python3.11/site-packages (from SQLAlchemy==1.4.54) (3.1.1)\n",
      "Requirement already satisfied: numpy>=1.23.2 in /mnt/c/Users/Mateus/Documents/indicium/lighthouse/desafio-final-lh/.venv/lib/python3.11/site-packages (from pandas) (2.2.2)\n",
      "Requirement already satisfied: python-dateutil>=2.8.2 in /mnt/c/Users/Mateus/Documents/indicium/lighthouse/desafio-final-lh/.venv/lib/python3.11/site-packages (from pandas) (2.9.0.post0)\n",
      "Requirement already satisfied: pytz>=2020.1 in /mnt/c/Users/Mateus/Documents/indicium/lighthouse/desafio-final-lh/.venv/lib/python3.11/site-packages (from pandas) (2025.1)\n",
      "Requirement already satisfied: tzdata>=2022.7 in /mnt/c/Users/Mateus/Documents/indicium/lighthouse/desafio-final-lh/.venv/lib/python3.11/site-packages (from pandas) (2025.1)\n",
      "Requirement already satisfied: six>=1.5 in /mnt/c/Users/Mateus/Documents/indicium/lighthouse/desafio-final-lh/.venv/lib/python3.11/site-packages (from python-dateutil>=2.8.2->pandas) (1.17.0)\n",
      "Note: you may need to restart the kernel to use updated packages.\n"
     ]
    }
   ],
   "source": [
    "%pip install pandas SQLAlchemy==1.4.54\n",
    "\n"
   ]
  },
  {
   "cell_type": "code",
   "execution_count": null,
   "metadata": {},
   "outputs": [
    {
     "name": "stdout",
     "output_type": "stream",
     "text": [
      "✅ Bibliotecas importadas com sucesso!\n"
     ]
    }
   ],
   "source": [
    "import pandas as pd\n",
    "import sqlalchemy \n",
    "from sqlalchemy import create_engine\n",
    "from pyspark.sql import SparkSession"
   ]
  },
  {
   "cell_type": "code",
   "execution_count": 4,
   "metadata": {},
   "outputs": [
    {
     "name": "stdout",
     "output_type": "stream",
     "text": [
      "Credenciais recuperadas e catálogo definido: mateus_marin_raw\n"
     ]
    },
    {
     "name": "stderr",
     "output_type": "stream",
     "text": [
      "/mnt/c/Users/Mateus/Documents/indicium/lighthouse/desafio-final-lh/.venv/lib/python3.11/site-packages/databricks/sdk/_widgets/__init__.py:61: UserWarning: \n",
      "To use databricks widgets interactively in your notebook, please install databricks sdk using:\n",
      "\tpip install 'databricks-sdk[notebook]'\n",
      "Falling back to default_value_only implementation for databricks widgets.\n",
      "  warnings.warn(\n"
     ]
    }
   ],
   "source": [
    "# Recuperando credenciais armazenadas no Databricks Secrets\n",
    "host = dbutils.secrets.get(scope=\"mateus_marin_adw\", key=\"host\")\n",
    "database = dbutils.secrets.get(scope=\"mateus_marin_adw\", key=\"database\")\n",
    "login = dbutils.secrets.get(scope=\"mateus_marin_adw\", key=\"login\")\n",
    "senha = dbutils.secrets.get(scope=\"mateus_marin_adw\", key=\"senha\")\n",
    "port = dbutils.secrets.get(scope=\"mateus_marin_adw\", key=\"port\")\n",
    "\n",
    "# Escolhendo o catálogo RAW onde os dados serão armazenados\n",
    "catalog_raw = \"mateus_marin_raw\"\n",
    "\n",
    "print(f\"Credenciais recuperadas e catálogo definido: {catalog_raw}\")\n",
    "\n",
    "dbutils.widgets.text(\"managed_location\", \"default_value\", \"Managed Location\")\n",
    "managed_location = dbutils.widgets.get(\"managed_location\")"
   ]
  },
  {
   "cell_type": "code",
   "execution_count": 10,
   "metadata": {
    "application/vnd.databricks.v1+cell": {
     "cellMetadata": {
      "byteLimit": 2048000,
      "rowLimit": 10000
     },
     "inputWidgets": {},
     "nuid": "6bca260b-13d1-448f-8082-30b60a85c9ae",
     "showTitle": false,
     "title": ""
    }
   },
   "outputs": [
    {
     "name": "stdout",
     "output_type": "stream",
     "text": [
      "Configuração de conexão definida!\n"
     ]
    }
   ],
   "source": [
    "# Criando URL de conexão com JDBC\n",
    "url_job = f\"jdbc:sqlserver://{host}:{port};databaseName={database};encrypt=false\"\n",
    "\n",
    "# Configurações de conexão\n",
    "connection_properties = {\n",
    "    \"user\": login,\n",
    "    \"password\": senha,\n",
    "    \"driver\": \"com.microsoft.sqlserver.jdbc.SQLServerDriver\"\n",
    "}\n",
    "\n",
    "print(\"Configuração de conexão definida!\")"
   ]
  },
  {
   "cell_type": "code",
   "execution_count": 11,
   "metadata": {},
   "outputs": [
    {
     "name": "stdout",
     "output_type": "stream",
     "text": [
      "Tabelas encontradas no schema Sales: ['SalesTaxRate', 'PersonCreditCard', 'SalesTerritory', 'SalesTerritoryHistory', 'ShoppingCartItem', 'SpecialOffer', 'SpecialOfferProduct', 'Store', 'CountryRegionCurrency', 'CreditCard', 'Currency', 'CurrencyRate', 'Customer', 'SalesOrderDetail', 'SalesOrderHeader', 'SalesOrderHeaderSalesReason', 'SalesPerson', 'SalesPersonQuotaHistory', 'SalesReason']\n"
     ]
    }
   ],
   "source": [
    "# Query para listar todas as tabelas do schema `Sales`\n",
    "query = \"\"\"\n",
    "SELECT TABLE_NAME \n",
    "FROM INFORMATION_SCHEMA.TABLES\n",
    "WHERE TABLE_SCHEMA = 'Sales' AND TABLE_TYPE = 'BASE TABLE'\n",
    "\"\"\"\n",
    "\n",
    "try:\n",
    "    # Lendo as tabelas do banco via JDBC\n",
    "    df_tables = spark.read.jdbc(url=url_job, table=f\"({query}) as sales_tables\", properties=connection_properties)\n",
    "\n",
    "    # Corrigindo a extração sem usar `.rdd()`\n",
    "    sales_tables = [row.TABLE_NAME for row in df_tables.collect()]  \n",
    "\n",
    "    print(f\"Tabelas encontradas no schema Sales: {sales_tables}\")\n",
    "\n",
    "except Exception as e:\n",
    "    print(f\"Erro ao recuperar tabelas: {e}\")\n",
    "    sales_tables = []  # Evita erro no loop"
   ]
  },
  {
   "cell_type": "code",
   "execution_count": 12,
   "metadata": {},
   "outputs": [],
   "source": [
    "# Nome do catálogo Unity Catalog\n",
    "catalog_raw = \"mateus_marin_raw\"\n",
    "\n",
    "def extract_table(table_name):\n",
    "    try:\n",
    "        print(f\"Extraindo tabela: {table_name}...\")\n",
    "\n",
    "        # Criando DataFrame Spark a partir do SQL Server via JDBC\n",
    "        df = spark.read.jdbc(url=url_job, table=f\"Sales.{table_name}\", properties=connection_properties)\n",
    "\n",
    "        # Nome da tabela no Unity Catalog\n",
    "        table_path = f\"{catalog_raw}.sales.{table_name.lower()}\"\n",
    "\n",
    "        # Salvando no formato Delta Table no Unity Catalog\n",
    "        df.write.format(\"delta\").mode(\"overwrite\").saveAsTable(table_path)\n",
    "\n",
    "        print(f\"Tabela {table_name} carregada com sucesso em {table_path}!\")\n",
    "\n",
    "    except Exception as e:\n",
    "        print(f\"Erro ao extrair {table_name}: {e}\")\n",
    "        return False  # Retorna False se falhar\n",
    "\n",
    "    return True  # Retorna True se for bem-sucedida"
   ]
  },
  {
   "cell_type": "code",
   "execution_count": 13,
   "metadata": {},
   "outputs": [
    {
     "name": "stdout",
     "output_type": "stream",
     "text": [
      "Extraindo tabela: SalesTaxRate...\n",
      "Tabela SalesTaxRate carregada com sucesso em mateus_marin_raw.sales.salestaxrate!\n",
      "Extraindo tabela: PersonCreditCard...\n",
      "Tabela PersonCreditCard carregada com sucesso em mateus_marin_raw.sales.personcreditcard!\n",
      "Extraindo tabela: SalesTerritory...\n",
      "Tabela SalesTerritory carregada com sucesso em mateus_marin_raw.sales.salesterritory!\n",
      "Extraindo tabela: SalesTerritoryHistory...\n",
      "Tabela SalesTerritoryHistory carregada com sucesso em mateus_marin_raw.sales.salesterritoryhistory!\n",
      "Extraindo tabela: ShoppingCartItem...\n",
      "Tabela ShoppingCartItem carregada com sucesso em mateus_marin_raw.sales.shoppingcartitem!\n",
      "Extraindo tabela: SpecialOffer...\n",
      "Tabela SpecialOffer carregada com sucesso em mateus_marin_raw.sales.specialoffer!\n",
      "Extraindo tabela: SpecialOfferProduct...\n",
      "Tabela SpecialOfferProduct carregada com sucesso em mateus_marin_raw.sales.specialofferproduct!\n",
      "Extraindo tabela: Store...\n",
      "Tabela Store carregada com sucesso em mateus_marin_raw.sales.store!\n",
      "Extraindo tabela: CountryRegionCurrency...\n",
      "Tabela CountryRegionCurrency carregada com sucesso em mateus_marin_raw.sales.countryregioncurrency!\n",
      "Extraindo tabela: CreditCard...\n",
      "Tabela CreditCard carregada com sucesso em mateus_marin_raw.sales.creditcard!\n",
      "Extraindo tabela: Currency...\n",
      "Tabela Currency carregada com sucesso em mateus_marin_raw.sales.currency!\n",
      "Extraindo tabela: CurrencyRate...\n",
      "Tabela CurrencyRate carregada com sucesso em mateus_marin_raw.sales.currencyrate!\n",
      "Extraindo tabela: Customer...\n",
      "Tabela Customer carregada com sucesso em mateus_marin_raw.sales.customer!\n",
      "Extraindo tabela: SalesOrderDetail...\n",
      "Tabela SalesOrderDetail carregada com sucesso em mateus_marin_raw.sales.salesorderdetail!\n",
      "Extraindo tabela: SalesOrderHeader...\n",
      "Tabela SalesOrderHeader carregada com sucesso em mateus_marin_raw.sales.salesorderheader!\n",
      "Extraindo tabela: SalesOrderHeaderSalesReason...\n",
      "Tabela SalesOrderHeaderSalesReason carregada com sucesso em mateus_marin_raw.sales.salesorderheadersalesreason!\n",
      "Extraindo tabela: SalesPerson...\n",
      "Tabela SalesPerson carregada com sucesso em mateus_marin_raw.sales.salesperson!\n",
      "Extraindo tabela: SalesPersonQuotaHistory...\n",
      "Tabela SalesPersonQuotaHistory carregada com sucesso em mateus_marin_raw.sales.salespersonquotahistory!\n",
      "Extraindo tabela: SalesReason...\n",
      "Tabela SalesReason carregada com sucesso em mateus_marin_raw.sales.salesreason!\n",
      "\n",
      "**Resumo da Extração**\n",
      "Tabelas extraídas com sucesso: ['SalesTaxRate', 'PersonCreditCard', 'SalesTerritory', 'SalesTerritoryHistory', 'ShoppingCartItem', 'SpecialOffer', 'SpecialOfferProduct', 'Store', 'CountryRegionCurrency', 'CreditCard', 'Currency', 'CurrencyRate', 'Customer', 'SalesOrderDetail', 'SalesOrderHeader', 'SalesOrderHeaderSalesReason', 'SalesPerson', 'SalesPersonQuotaHistory', 'SalesReason']\n",
      "Todas as tabelas foram extraídas corretamente.\n"
     ]
    }
   ],
   "source": [
    "# Executar a extração para todas as tabelas do schema `Sales`\n",
    "failed_tables = []  # Lista para armazenar tabelas que falharam\n",
    "successful_tables = []  # Lista para armazenar tabelas extraídas com sucesso\n",
    "\n",
    "for table in sales_tables:\n",
    "    result = extract_table(table)\n",
    "    if result:\n",
    "        successful_tables.append(table)\n",
    "    else:\n",
    "        failed_tables.append(table)\n",
    "\n",
    "# Exibir relatório final\n",
    "print(\"\\n**Resumo da Extração**\")\n",
    "print(f\"Tabelas extraídas com sucesso: {successful_tables}\" if successful_tables else \"Nenhuma tabela foi extraída com sucesso.\")\n",
    "print(f\"Tabelas que falharam: {failed_tables}\" if failed_tables else \"Todas as tabelas foram extraídas corretamente.\")"
   ]
  }
 ],
 "metadata": {
  "application/vnd.databricks.v1+notebook": {
   "dashboards": [],
   "language": "python",
   "notebookMetadata": {
    "pythonIndentUnit": 2
   },
   "notebookName": "notebook",
   "widgets": {}
  },
  "kernelspec": {
   "display_name": ".venv",
   "language": "python",
   "name": "python3"
  },
  "language_info": {
   "codemirror_mode": {
    "name": "ipython",
    "version": 3
   },
   "file_extension": ".py",
   "mimetype": "text/x-python",
   "name": "python",
   "nbconvert_exporter": "python",
   "pygments_lexer": "ipython3",
   "version": "3.11.11"
  }
 },
 "nbformat": 4,
 "nbformat_minor": 0
}
