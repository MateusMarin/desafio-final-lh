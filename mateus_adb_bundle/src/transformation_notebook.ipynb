{
 "cells": [
  {
   "cell_type": "markdown",
   "metadata": {
    "application/vnd.databricks.v1+cell": {
     "cellMetadata": {},
     "inputWidgets": {},
     "nuid": "ee353e42-ff58-4955-9608-12865bd0950e",
     "showTitle": false,
     "title": ""
    }
   },
   "source": [
    "# Transformation notebook\n",
    "\n",
    "\n",
    "This notebook is responsible for the transformation of Sales tables from AdventureWorks database from RAW to STG."
   ]
  },
  {
   "cell_type": "code",
   "execution_count": null,
   "metadata": {},
   "outputs": [],
   "source": [
    "%pip install pandas SQLAlchemy==1.4.54 pyspark==3.5.0 setuptools\n",
    "dbutils.library.restartPython()  # Reinicia o kernel para carregar as novas bibliotecas"
   ]
  },
  {
   "cell_type": "code",
   "execution_count": null,
   "metadata": {},
   "outputs": [],
   "source": [
    "# Importações necessárias\n",
    "from pyspark.sql import SparkSession\n",
    "from pyspark.sql.functions import col, lit, concat_ws, sha2, coalesce, sum, when\n",
    "from pyspark.sql.types import StringType\n",
    "\n",
    "# Criar SparkSession\n",
    "spark = SparkSession.builder.appName(\"TransformRawToStg\").getOrCreate()\n",
    "\n",
    "# Definir catálogos de origem (RAW) e destino (STG)\n",
    "catalog_raw = \"mateus_marin_raw\"\n",
    "catalog_stg = \"mateus_marin_stg\"\n",
    "\n",
    "print(\"Spark configurado com sucesso!\")"
   ]
  },
  {
   "cell_type": "code",
   "execution_count": null,
   "metadata": {},
   "outputs": [],
   "source": [
    "# Criar SparkSession\n",
    "spark = SparkSession.builder \\\n",
    "    .appName(\"Teste Spark\") \\\n",
    "    .getOrCreate()\n",
    "\n",
    "# Exibir versão do Spark\n",
    "print(f\"Spark versão: {spark.version}\")\n",
    "\n",
    "# Criar DataFrame de teste\n",
    "data = [(\"Mateus\", 29), (\"João\", 35), (\"Ana\", 23)]\n",
    "columns = [\"Nome\", \"Idade\"]\n",
    "df = spark.createDataFrame(data, columns)\n",
    "\n",
    "df.show()"
   ]
  },
  {
   "cell_type": "code",
   "execution_count": null,
   "metadata": {},
   "outputs": [],
   "source": [
    "# Inicializar a sessão Spark (se ainda não estiver ativa)\n",
    "spark = SparkSession.builder.appName(\"ETL_SALES\").getOrCreate()\n",
    "\n",
    "# Obter todas as tabelas dinamicamente do schema RAW.sales\n",
    "raw_tables = [row[\"tableName\"] for row in spark.sql(\"SHOW TABLES IN mateus_marin_raw.sales\").collect()]\n",
    "\n",
    "print(f\"Tabelas descobertas no schema RAW.sales: {raw_tables}\")"
   ]
  },
  {
   "cell_type": "code",
   "execution_count": null,
   "metadata": {},
   "outputs": [],
   "source": [
    "def get_column_order(table_name):\n",
    "    \"\"\"\n",
    "    Retorna a ordem das colunas para uma tabela específica no RAW.sales.\n",
    "    \"\"\"\n",
    "    try:\n",
    "        return spark.read.table(f\"mateus_marin_raw.sales.{table_name}\").columns\n",
    "    except Exception as e:\n",
    "        print(f\"Erro ao obter colunas da tabela {table_name}: {e}\")\n",
    "        return None"
   ]
  },
  {
   "cell_type": "code",
   "execution_count": null,
   "metadata": {},
   "outputs": [],
   "source": [
    "# Mapeamento de chaves únicas por tabela\n",
    "unique_keys = {\n",
    "    \"countryregioncurrency\": [\"CountryRegionCode\", \"CurrencyCode\", \"ModifiedDate\"],\n",
    "    \"creditcard\": [\"CreditCardID\", \"ModifiedDate\"],\n",
    "    \"currency\": [\"CurrencyCode\", \"ModifiedDate\"],\n",
    "    \"currencyrate\": [\"CurrencyRateID\", \"ModifiedDate\"],\n",
    "    \"customer\": [\"CustomerID\", \"ModifiedDate\"],\n",
    "    \"personcreditcard\": [\"BusinessEntityID\", \"CreditCardID\", \"ModifiedDate\"],\n",
    "    \"salesorderdetail\": [\"SalesOrderID\", \"SalesOrderDetailID\", \"ModifiedDate\"],\n",
    "    \"salesorderheader\": [\"SalesOrderID\", \"ModifiedDate\"],\n",
    "    \"salesorderheadersalesreason\": [\"SalesOrderID\", \"SalesReasonID\", \"ModifiedDate\"],\n",
    "    \"salesperson\": [\"BusinessEntityID\", \"ModifiedDate\"],\n",
    "    \"salespersonquotahistory\": [\"BusinessEntityID\", \"QuotaDate\", \"ModifiedDate\"],\n",
    "    \"salesreason\": [\"SalesReasonID\", \"ModifiedDate\"],\n",
    "    \"salestaxrate\": [\"SalesTaxRateID\", \"ModifiedDate\"],\n",
    "    \"salesterritory\": [\"TerritoryID\", \"ModifiedDate\"],\n",
    "    \"salesterritoryhistory\": [\"BusinessEntityID\", \"StartDate\", \"TerritoryID\", \"ModifiedDate\"],\n",
    "    \"shoppingcartitem\": [\"ShoppingCartItemID\", \"ModifiedDate\"],\n",
    "    \"specialoffer\": [\"SpecialOfferID\", \"ModifiedDate\"],\n",
    "    \"specialofferproduct\": [\"SpecialOfferID\", \"ProductID\", \"ModifiedDate\"],\n",
    "    \"store\": [\"BusinessEntityID\", \"ModifiedDate\"]\n",
    "}\n",
    "\n",
    "print(\"Mapeamento de chaves únicas configurado!\")"
   ]
  },
  {
   "cell_type": "code",
   "execution_count": null,
   "metadata": {},
   "outputs": [],
   "source": [
    "def transform_table(table_name):\n",
    "    \"\"\"\n",
    "    Transforma uma tabela do RAW.sales para STG.sales, aplicando regras específicas.\n",
    "    \"\"\"\n",
    "    try:\n",
    "        # Lendo a tabela do RAW\n",
    "        df = spark.read.table(f\"mateus_marin_raw.sales.{table_name}\")\n",
    "\n",
    "        # Criar GlobalID de forma consistente\n",
    "        if \"SalesOrderID\" in df.columns and \"SalesOrderDetailID\" in df.columns:\n",
    "            df = df.withColumn(\"GlobalID\", concat_ws(\"-\", col(\"SalesOrderID\"), col(\"SalesOrderDetailID\")))\n",
    "        elif \"SalesOrderID\" in df.columns and \"CustomerID\" in df.columns:\n",
    "            df = df.withColumn(\"GlobalID\", concat_ws(\"-\", col(\"SalesOrderID\"), col(\"CustomerID\")))\n",
    "        elif \"CustomerID\" in df.columns:\n",
    "            df = df.withColumn(\"GlobalID\", col(\"CustomerID\"))\n",
    "        \n",
    "        # Ordenar as colunas\n",
    "        column_order = get_column_order(table_name)\n",
    "        if column_order:\n",
    "            df = df.select(column_order)\n",
    "\n",
    "        # Salvar na camada STG\n",
    "        df.write.mode(\"overwrite\").saveAsTable(f\"mateus_marin_stg.sales.{table_name}\")\n",
    "        print(f\"Tabela `{table_name}` transformada e carregada na STG.sales!\")\n",
    "\n",
    "    except Exception as e:\n",
    "        print(f\"Erro ao transformar a tabela {table_name}: {e}\")"
   ]
  },
  {
   "cell_type": "code",
   "execution_count": null,
   "metadata": {},
   "outputs": [],
   "source": [
    "for table in raw_tables:\n",
    "    transform_table(table)\n",
    "\n",
    "print(\"Transformação RAW → STG concluída com sucesso!\")"
   ]
  },
  {
   "cell_type": "code",
   "execution_count": null,
   "metadata": {},
   "outputs": [],
   "source": [
    "# Obter todas as tabelas disponíveis no STG\n",
    "stg_tables = [row[\"tableName\"] for row in spark.sql(\"SHOW TABLES IN mateus_marin_stg.sales\").collect()]\n",
    "\n",
    "# Mostrar quais tabelas foram identificadas\n",
    "print(f\"Tabelas disponíveis na STG: {stg_tables}\")"
   ]
  },
  {
   "cell_type": "code",
   "execution_count": null,
   "metadata": {},
   "outputs": [],
   "source": [
    "def rename_conflicting_columns(df, table_name):\n",
    "    \"\"\"\n",
    "    Renomeia colunas `ModifiedDate` e `rowguid` para evitar conflitos de nome antes do JOIN.\n",
    "    Exemplo: `rowguid` da tabela `customer` será `customer_rowguid`.\n",
    "    \"\"\"\n",
    "    if \"ModifiedDate\" in df.columns:\n",
    "        df = df.withColumnRenamed(\"ModifiedDate\", f\"{table_name}_ModifiedDate\")\n",
    "    \n",
    "    if \"rowguid\" in df.columns:\n",
    "        df = df.withColumnRenamed(\"rowguid\", f\"{table_name}_rowguid\")\n",
    "    \n",
    "    return df\n",
    "\n",
    "def load_table(table_name):\n",
    "    \"\"\"\n",
    "    Carrega a tabela STG e aplica correções para minimizar valores NULL.\n",
    "    \"\"\"\n",
    "    try:\n",
    "        df = spark.read.table(f\"{catalog_stg}.sales.{table_name}\")\n",
    "        df = rename_conflicting_columns(df, table_name)\n",
    "\n",
    "        # Corrigir valores NULL dependendo do tipo da coluna\n",
    "        for col_name in df.columns:\n",
    "            dtype = df.schema[col_name].dataType.simpleString()\n",
    "\n",
    "            if dtype.startswith(\"string\"):\n",
    "                df = df.withColumn(col_name, coalesce(col(col_name), lit(\"N/A\")))\n",
    "\n",
    "            elif dtype.startswith(\"int\") or dtype.startswith(\"bigint\") or dtype.startswith(\"smallint\"):\n",
    "                df = df.withColumn(col_name, coalesce(col(col_name), lit(0)))\n",
    "\n",
    "            elif dtype.startswith(\"decimal\") or dtype.startswith(\"double\") or dtype.startswith(\"float\"):\n",
    "                df = df.withColumn(col_name, coalesce(col(col_name), lit(0.0)))\n",
    "\n",
    "            elif dtype.startswith(\"timestamp\") or dtype.startswith(\"date\"):\n",
    "                df = df.withColumn(col_name, coalesce(col(col_name), lit(\"1970-01-01 00:00:00\").cast(\"timestamp\")))\n",
    "\n",
    "        print(f\"`{table_name}` carregada e pré-processada com sucesso!\")\n",
    "        return df\n",
    "\n",
    "    except Exception as e:\n",
    "        print(f\"Erro ao carregar `{table_name}`: {e}\")\n",
    "        return None"
   ]
  },
  {
   "cell_type": "code",
   "execution_count": null,
   "metadata": {},
   "outputs": [],
   "source": [
    "# Carregar tabelas necessárias para a criação da `one_big_table`\n",
    "df_salesorderheader = load_table(\"salesorderheader\")\n",
    "df_salesorderdetail = load_table(\"salesorderdetail\")\n",
    "\n",
    "# Garantir que ambas possuem a chave SalesOrderID antes do JOIN\n",
    "if df_salesorderheader and df_salesorderdetail and \"SalesOrderID\" in df_salesorderheader.columns and \"SalesOrderID\" in df_salesorderdetail.columns:\n",
    "    df_final = df_salesorderdetail.join(df_salesorderheader, [\"SalesOrderID\"], \"left\")\n",
    "    print(\"JOIN inicial entre SalesOrderDetail e SalesOrderHeader realizado com sucesso!\")\n",
    "else:\n",
    "    print(\"Coluna 'SalesOrderID' não encontrada ou tabelas vazias, pulando JOIN inicial.\")\n",
    "    df_final = df_salesorderdetail if df_salesorderdetail else None"
   ]
  },
  {
   "cell_type": "code",
   "execution_count": null,
   "metadata": {},
   "outputs": [],
   "source": [
    "# Lista de tabelas adicionais que serão adicionadas à `one_big_table`\n",
    "tables_to_join = [\"customer\", \"salesperson\", \"creditcard\", \"salesterritory\"]\n",
    "\n",
    "if df_final:\n",
    "    for table in tables_to_join:\n",
    "        df_temp = load_table(table)\n",
    "        \n",
    "        if df_temp:\n",
    "            # Identificar chaves comuns para JOIN\n",
    "            common_keys = list(set(df_final.columns) & set(df_temp.columns))\n",
    "            \n",
    "            if common_keys:\n",
    "                print(f\"Fazendo JOIN com `{table}` usando as chaves {common_keys}\")\n",
    "                df_final = df_final.join(df_temp, common_keys, \"left\")\n",
    "            else:\n",
    "                print(f\"Nenhuma chave comum encontrada para `{table}`, pulando...\")\n",
    "        else:\n",
    "            print(f\"Tabela `{table}` não carregada, pulando...\")\n",
    "else:\n",
    "    print(\"`one_big_table` não pode ser criada pois o DataFrame base está vazio!\")"
   ]
  },
  {
   "cell_type": "code",
   "execution_count": null,
   "metadata": {},
   "outputs": [],
   "source": [
    "if df_final:\n",
    "    # Criar UniqueID\n",
    "    if \"SalesOrderID\" in df_final.columns and \"SalesOrderDetailID\" in df_final.columns:\n",
    "        df_final = df_final.withColumn(\"UniqueID\", concat_ws(\"-\", col(\"SalesOrderID\"), col(\"SalesOrderDetailID\")))\n",
    "    elif \"CustomerID\" in df_final.columns:\n",
    "        df_final = df_final.withColumn(\"UniqueID\", col(\"CustomerID\"))\n",
    "\n",
    "    # Criar GlobalID\n",
    "    if \"SalesOrderID\" in df_final.columns and \"CustomerID\" in df_final.columns:\n",
    "        df_final = df_final.withColumn(\"GlobalID\", concat_ws(\"-\", col(\"SalesOrderID\"), col(\"CustomerID\")))\n",
    "\n",
    "    print(\"UniqueID e GlobalID criados com sucesso!\")"
   ]
  },
  {
   "cell_type": "code",
   "execution_count": null,
   "metadata": {},
   "outputs": [],
   "source": [
    "if df_final:\n",
    "    # Remover duplicatas antes de salvar\n",
    "    df_final = df_final.dropDuplicates()\n",
    "\n",
    "    # Salvar a tabela final apenas se houver dados\n",
    "    if df_final.count() > 0:\n",
    "        df_final.write.mode(\"overwrite\").saveAsTable(f\"{catalog_stg}.sales.one_big_table\")\n",
    "        print(\"`one_big_table` corrigida e salva com sucesso!\")\n",
    "    else:\n",
    "        print(\"`one_big_table` não pôde ser criada pois não há dados disponíveis.\")"
   ]
  },
  {
   "cell_type": "code",
   "execution_count": null,
   "metadata": {},
   "outputs": [],
   "source": [
    "if df_final:\n",
    "    # Exibir estrutura final\n",
    "    print(\"Estrutura da `one_big_table`:\")\n",
    "    df_final.printSchema()\n",
    "\n",
    "    print(\"Exemplo de dados na `one_big_table`:\")\n",
    "    df_final.show(10, False)\n",
    "\n",
    "    # Contagem de valores nulos por coluna\n",
    "    print(\"Contagem de valores nulos por coluna:\")\n",
    "    null_counts = df_final.select([sum(col(c).isNull().cast(\"int\")).alias(c) for c in df_final.columns])\n",
    "    null_counts.show(truncate=False)\n",
    "\n",
    "    # Contagem de registros sem UniqueID e GlobalID\n",
    "    missing_uniqueid_count = df_final.filter(col(\"UniqueID\").isNull()).count()\n",
    "    missing_globalid_count = df_final.filter(col(\"GlobalID\").isNull()).count()\n",
    "    print(f\"Registros sem UniqueID: {missing_uniqueid_count}\")\n",
    "    print(f\"Registros sem GlobalID: {missing_globalid_count}\")\n",
    "\n",
    "    # Exemplo de registros sem UniqueID\n",
    "    print(\"Exemplo de registros sem UniqueID:\")\n",
    "    df_final.filter(col(\"UniqueID\").isNull()).show(10, False)\n",
    "\n",
    "    # Verificar colunas duplicadas\n",
    "    duplicate_cols = [c for c in df_final.columns if df_final.columns.count(c) > 1]\n",
    "    print(f\"Colunas duplicadas (se houver): {duplicate_cols}\")\n",
    "\n",
    "    # Exibir as primeiras linhas para conferência geral\n",
    "    df_final.show(5, False)"
   ]
  },
  {
   "cell_type": "code",
   "execution_count": null,
   "metadata": {},
   "outputs": [],
   "source": [
    "# Obter a lista de tabelas no schema sales do catalog STG\n",
    "#tables_query = \"SHOW TABLES IN mateus_marin_stg.sales\"\n",
    "#df_tables = spark.sql(tables_query)\n",
    "#\n",
    "## Criar lista de tabelas\n",
    "#tables_list = [row.tableName for row in df_tables.collect()]\n",
    "#\n",
    "## Loop para dropar cada tabela individualmente\n",
    "#for table in tables_list:\n",
    "#    drop_query = f\"DROP TABLE IF EXISTS mateus_marin_stg.sales.{table}\"\n",
    "#    spark.sql(drop_query)\n",
    "#    print(f\"Tabela {table} removida com sucesso! ✅\")"
   ]
  }
 ],
 "metadata": {
  "application/vnd.databricks.v1+notebook": {
   "dashboards": [],
   "language": "python",
   "notebookMetadata": {
    "pythonIndentUnit": 2
   },
   "notebookName": "notebook",
   "widgets": {}
  },
  "kernelspec": {
   "display_name": ".venv",
   "language": "python",
   "name": "python3"
  },
  "language_info": {
   "codemirror_mode": {
    "name": "ipython",
    "version": 3
   },
   "file_extension": ".py",
   "mimetype": "text/x-python",
   "name": "python",
   "nbconvert_exporter": "python",
   "pygments_lexer": "ipython3",
   "version": "3.11.11"
  }
 },
 "nbformat": 4,
 "nbformat_minor": 0
}
