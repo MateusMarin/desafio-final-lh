{
 "cells": [
  {
   "cell_type": "markdown",
   "metadata": {
    "application/vnd.databricks.v1+cell": {
     "cellMetadata": {},
     "inputWidgets": {},
     "nuid": "ee353e42-ff58-4955-9608-12865bd0950e",
     "showTitle": false,
     "title": ""
    }
   },
   "source": [
    "# Transformation notebook\n",
    "\n",
    "\n",
    "This notebook is responsible for the transformation of Sales tables from AdventureWorks database from RAW to STG."
   ]
  },
  {
   "cell_type": "code",
   "execution_count": null,
   "metadata": {},
   "outputs": [],
   "source": [
    "%pip install pandas SQLAlchemy==1.4.54 pyspark==3.5.0 setuptools\n",
    "dbutils.library.restartPython()  # Reinicia o kernel para carregar as novas bibliotecas"
   ]
  },
  {
   "cell_type": "code",
   "execution_count": null,
   "metadata": {},
   "outputs": [],
   "source": [
    "# Importações necessárias\n",
    "from pyspark.sql import SparkSession\n",
    "from pyspark.sql.functions import col, lit, concat_ws, sha2, coalesce\n",
    "from pyspark.sql.types import StringType\n",
    "\n",
    "# Criar SparkSession\n",
    "spark = SparkSession.builder.appName(\"TransformRawToStg\").getOrCreate()\n",
    "\n",
    "# Definir catálogos de origem (RAW) e destino (STG)\n",
    "catalog_raw = \"mateus_marin_raw\"\n",
    "catalog_stg = \"mateus_marin_stg\"\n",
    "\n",
    "print(\"Spark configurado com sucesso!\")"
   ]
  },
  {
   "cell_type": "code",
   "execution_count": null,
   "metadata": {},
   "outputs": [],
   "source": [
    "# Criar SparkSession\n",
    "spark = SparkSession.builder \\\n",
    "    .appName(\"Teste Spark\") \\\n",
    "    .getOrCreate()\n",
    "\n",
    "# Exibir versão do Spark\n",
    "print(f\"Spark versão: {spark.version}\")\n",
    "\n",
    "# Criar DataFrame de teste\n",
    "data = [(\"Mateus\", 29), (\"João\", 35), (\"Ana\", 23)]\n",
    "columns = [\"Nome\", \"Idade\"]\n",
    "df = spark.createDataFrame(data, columns)\n",
    "\n",
    "df.show()"
   ]
  },
  {
   "cell_type": "code",
   "execution_count": null,
   "metadata": {},
   "outputs": [],
   "source": [
    "# Inicializar a sessão Spark (se ainda não estiver ativa)\n",
    "spark = SparkSession.builder.appName(\"ETL_SALES\").getOrCreate()\n",
    "\n",
    "# Obter todas as tabelas dinamicamente do schema RAW.sales\n",
    "raw_tables = [row[\"tableName\"] for row in spark.sql(\"SHOW TABLES IN mateus_marin_raw.sales\").collect()]\n",
    "\n",
    "print(f\"🔍 Tabelas descobertas no schema RAW.sales: {raw_tables}\")"
   ]
  },
  {
   "cell_type": "code",
   "execution_count": null,
   "metadata": {},
   "outputs": [],
   "source": [
    "def get_column_order(table_name):\n",
    "    \"\"\"\n",
    "    Retorna a ordem das colunas para uma tabela específica no RAW.sales.\n",
    "    \"\"\"\n",
    "    try:\n",
    "        return spark.read.table(f\"mateus_marin_raw.sales.{table_name}\").columns\n",
    "    except Exception as e:\n",
    "        print(f\"❌ Erro ao obter colunas da tabela {table_name}: {e}\")\n",
    "        return None"
   ]
  },
  {
   "cell_type": "code",
   "execution_count": null,
   "metadata": {},
   "outputs": [],
   "source": [
    "# Mapeamento de chaves únicas por tabela\n",
    "unique_keys = {\n",
    "    \"countryregioncurrency\": [\"CountryRegionCode\", \"CurrencyCode\", \"ModifiedDate\"],\n",
    "    \"creditcard\": [\"CreditCardID\", \"ModifiedDate\"],\n",
    "    \"currency\": [\"CurrencyCode\", \"ModifiedDate\"],\n",
    "    \"currencyrate\": [\"CurrencyRateID\", \"ModifiedDate\"],\n",
    "    \"customer\": [\"CustomerID\", \"ModifiedDate\"],\n",
    "    \"personcreditcard\": [\"BusinessEntityID\", \"CreditCardID\", \"ModifiedDate\"],\n",
    "    \"salesorderdetail\": [\"SalesOrderID\", \"SalesOrderDetailID\", \"ModifiedDate\"],\n",
    "    \"salesorderheader\": [\"SalesOrderID\", \"ModifiedDate\"],\n",
    "    \"salesorderheadersalesreason\": [\"SalesOrderID\", \"SalesReasonID\", \"ModifiedDate\"],\n",
    "    \"salesperson\": [\"BusinessEntityID\", \"ModifiedDate\"],\n",
    "    \"salespersonquotahistory\": [\"BusinessEntityID\", \"QuotaDate\", \"ModifiedDate\"],\n",
    "    \"salesreason\": [\"SalesReasonID\", \"ModifiedDate\"],\n",
    "    \"salestaxrate\": [\"SalesTaxRateID\", \"ModifiedDate\"],\n",
    "    \"salesterritory\": [\"TerritoryID\", \"ModifiedDate\"],\n",
    "    \"salesterritoryhistory\": [\"BusinessEntityID\", \"StartDate\", \"TerritoryID\", \"ModifiedDate\"],\n",
    "    \"shoppingcartitem\": [\"ShoppingCartItemID\", \"ModifiedDate\"],\n",
    "    \"specialoffer\": [\"SpecialOfferID\", \"ModifiedDate\"],\n",
    "    \"specialofferproduct\": [\"SpecialOfferID\", \"ProductID\", \"ModifiedDate\"],\n",
    "    \"store\": [\"BusinessEntityID\", \"ModifiedDate\"]\n",
    "}\n",
    "\n",
    "print(\"✅ Mapeamento de chaves únicas configurado!\")"
   ]
  },
  {
   "cell_type": "code",
   "execution_count": null,
   "metadata": {},
   "outputs": [],
   "source": [
    "from pyspark.sql.functions import col, concat_ws\n",
    "\n",
    "def transform_table(table_name):\n",
    "    \"\"\"\n",
    "    Transforma uma tabela do RAW.sales para STG.sales, aplicando regras específicas.\n",
    "    \"\"\"\n",
    "    try:\n",
    "        # Lendo a tabela do RAW\n",
    "        df = spark.read.table(f\"mateus_marin_raw.sales.{table_name}\")\n",
    "\n",
    "        # Criar GlobalID de forma consistente\n",
    "        if \"SalesOrderID\" in df.columns and \"SalesOrderDetailID\" in df.columns:\n",
    "            df = df.withColumn(\"GlobalID\", concat_ws(\"-\", col(\"SalesOrderID\"), col(\"SalesOrderDetailID\")))\n",
    "        elif \"SalesOrderID\" in df.columns and \"CustomerID\" in df.columns:\n",
    "            df = df.withColumn(\"GlobalID\", concat_ws(\"-\", col(\"SalesOrderID\"), col(\"CustomerID\")))\n",
    "        elif \"CustomerID\" in df.columns:\n",
    "            df = df.withColumn(\"GlobalID\", col(\"CustomerID\"))\n",
    "        \n",
    "        # Ordenar as colunas\n",
    "        column_order = get_column_order(table_name)\n",
    "        if column_order:\n",
    "            df = df.select(column_order)\n",
    "\n",
    "        # Salvar na camada STG\n",
    "        df.write.mode(\"overwrite\").saveAsTable(f\"mateus_marin_stg.sales.{table_name}\")\n",
    "        print(f\"✅ Tabela `{table_name}` transformada e carregada na STG.sales!\")\n",
    "\n",
    "    except Exception as e:\n",
    "        print(f\"❌ Erro ao transformar a tabela {table_name}: {e}\")"
   ]
  },
  {
   "cell_type": "code",
   "execution_count": null,
   "metadata": {},
   "outputs": [],
   "source": [
    "for table in raw_tables:\n",
    "    transform_table(table)\n",
    "\n",
    "print(\"🏁 Transformação RAW → STG concluída com sucesso!\")"
   ]
  },
  {
   "cell_type": "code",
   "execution_count": null,
   "metadata": {},
<<<<<<< Updated upstream
   "outputs": [],
   "source": [
    "# Obter todas as tabelas disponíveis no STG\n",
    "stg_tables = [row[\"tableName\"] for row in spark.sql(\"SHOW TABLES IN mateus_marin_stg.sales\").collect()]\n",
    "\n",
    "# Mostrar quais tabelas foram identificadas\n",
    "print(f\"🔍 Tabelas disponíveis na STG: {stg_tables}\")"
   ]
  },
  {
   "cell_type": "code",
   "execution_count": 121,
   "metadata": {},
   "outputs": [],
   "source": [
    "from pyspark.sql.functions import when\n",
    "\n",
    "def rename_conflicting_columns(df, table_name):\n",
    "    \"\"\"\n",
    "    Renomeia colunas `ModifiedDate` e `rowguid` para evitar conflitos de nome antes do JOIN.\n",
    "    Exemplo: `rowguid` da tabela `customer` será `customer_rowguid`.\n",
    "    \"\"\"\n",
    "    if \"ModifiedDate\" in df.columns:\n",
    "        df = df.withColumnRenamed(\"ModifiedDate\", f\"{table_name}_ModifiedDate\")\n",
    "    \n",
    "    if \"rowguid\" in df.columns:\n",
    "        df = df.withColumnRenamed(\"rowguid\", f\"{table_name}_rowguid\")\n",
    "    \n",
    "    return df\n",
    "\n",
    "def load_table(table_name):\n",
    "    \"\"\"\n",
    "    Carrega a tabela STG e aplica correções para minimizar valores NULL.\n",
    "    \"\"\"\n",
    "    try:\n",
    "        df = spark.read.table(f\"{catalog_stg}.sales.{table_name}\")\n",
    "        df = rename_conflicting_columns(df, table_name)\n",
    "\n",
    "        # Corrigir valores NULL dependendo do tipo da coluna\n",
    "        for col_name in df.columns:\n",
    "            dtype = df.schema[col_name].dataType.simpleString()\n",
    "\n",
    "            if dtype.startswith(\"string\"):\n",
    "                df = df.withColumn(col_name, coalesce(col(col_name), lit(\"N/A\")))\n",
    "\n",
    "            elif dtype.startswith(\"int\") or dtype.startswith(\"bigint\") or dtype.startswith(\"smallint\"):\n",
    "                df = df.withColumn(col_name, coalesce(col(col_name), lit(0)))\n",
    "\n",
    "            elif dtype.startswith(\"decimal\") or dtype.startswith(\"double\") or dtype.startswith(\"float\"):\n",
    "                df = df.withColumn(col_name, coalesce(col(col_name), lit(0.0)))\n",
    "\n",
    "            elif dtype.startswith(\"timestamp\") or dtype.startswith(\"date\"):\n",
    "                df = df.withColumn(col_name, coalesce(col(col_name), lit(\"1970-01-01 00:00:00\").cast(\"timestamp\")))\n",
    "\n",
    "        print(f\"✅ `{table_name}` carregada e pré-processada com sucesso!\")\n",
    "        return df\n",
    "\n",
    "    except Exception as e:\n",
    "        print(f\"❌ Erro ao carregar `{table_name}`: {e}\")\n",
    "        return None"
   ]
  },
  {
   "cell_type": "code",
   "execution_count": 119,
   "metadata": {},
   "outputs": [
    {
     "name": "stdout",
     "output_type": "stream",
     "text": [
      "❌ Erro ao carregar `salesorderheader`: [DATATYPE_MISMATCH.DATA_DIFF_TYPES] Cannot resolve \"coalesce(OrderDate, 0)\" due to data type mismatch: Input to `coalesce` should all be the same type, but it's (\"TIMESTAMP\" or \"INT\"). SQLSTATE: 42K09;\n",
      "'Project [SalesOrderID#363, RevisionNumber#444, coalesce(OrderDate#124, 0) AS OrderDate#525, DueDate#125, ShipDate#126, Status#127, OnlineOrderFlag#128, SalesOrderNumber#129, PurchaseOrderNumber#130, AccountNumber#131, CustomerID#132, SalesPersonID#133, TerritoryID#134, BillToAddressID#135, ShipToAddressID#136, ShipMethodID#137, CreditCardID#138, CreditCardApprovalCode#139, CurrencyRateID#140, SubTotal#141, TaxAmt#142, Freight#143, TotalDue#144, Comment#145, ... 2 more fields]\n",
      "+- Project [SalesOrderID#363, coalesce(cast(RevisionNumber#123 as int), 0) AS RevisionNumber#444, OrderDate#124, DueDate#125, ShipDate#126, Status#127, OnlineOrderFlag#128, SalesOrderNumber#129, PurchaseOrderNumber#130, AccountNumber#131, CustomerID#132, SalesPersonID#133, TerritoryID#134, BillToAddressID#135, ShipToAddressID#136, ShipMethodID#137, CreditCardID#138, CreditCardApprovalCode#139, CurrencyRateID#140, SubTotal#141, TaxAmt#142, Freight#143, TotalDue#144, Comment#145, ... 2 more fields]\n",
      "   +- Project [coalesce(SalesOrderID#122, 0) AS SalesOrderID#363, RevisionNumber#123, OrderDate#124, DueDate#125, ShipDate#126, Status#127, OnlineOrderFlag#128, SalesOrderNumber#129, PurchaseOrderNumber#130, AccountNumber#131, CustomerID#132, SalesPersonID#133, TerritoryID#134, BillToAddressID#135, ShipToAddressID#136, ShipMethodID#137, CreditCardID#138, CreditCardApprovalCode#139, CurrencyRateID#140, SubTotal#141, TaxAmt#142, Freight#143, TotalDue#144, Comment#145, ... 2 more fields]\n",
      "      +- Project [SalesOrderID#122, RevisionNumber#123, OrderDate#124, DueDate#125, ShipDate#126, Status#127, OnlineOrderFlag#128, SalesOrderNumber#129, PurchaseOrderNumber#130, AccountNumber#131, CustomerID#132, SalesPersonID#133, TerritoryID#134, BillToAddressID#135, ShipToAddressID#136, ShipMethodID#137, CreditCardID#138, CreditCardApprovalCode#139, CurrencyRateID...\n",
      "✅ `salesorderdetail` carregada e pré-processada com sucesso!\n",
      "⚠️ Coluna 'SalesOrderID' não encontrada ou tabelas vazias, pulando JOIN inicial.\n"
     ]
    }
   ],
   "source": [
    "# Carregar tabelas necessárias para a criação da `one_big_table`\n",
    "df_salesorderheader = load_table(\"salesorderheader\")\n",
    "df_salesorderdetail = load_table(\"salesorderdetail\")\n",
    "\n",
    "# Garantir que ambas possuem a chave SalesOrderID antes do JOIN\n",
    "if df_salesorderheader and df_salesorderdetail and \"SalesOrderID\" in df_salesorderheader.columns and \"SalesOrderID\" in df_salesorderdetail.columns:\n",
    "    df_final = df_salesorderdetail.join(df_salesorderheader, [\"SalesOrderID\"], \"left\")\n",
    "    print(\"✅ JOIN inicial entre SalesOrderDetail e SalesOrderHeader realizado com sucesso!\")\n",
    "else:\n",
    "    print(\"⚠️ Coluna 'SalesOrderID' não encontrada ou tabelas vazias, pulando JOIN inicial.\")\n",
    "    df_final = df_salesorderdetail if df_salesorderdetail else None"
   ]
  },
  {
   "cell_type": "code",
   "execution_count": null,
   "metadata": {},
   "outputs": [],
   "source": [
    "# Lista de tabelas adicionais que serão adicionadas à `one_big_table`\n",
    "tables_to_join = [\"customer\", \"salesperson\", \"creditcard\", \"salesterritory\"]\n",
    "\n",
    "if df_final:\n",
    "    for table in tables_to_join:\n",
    "        df_temp = load_table(table)\n",
    "        \n",
    "        if df_temp:\n",
    "            # Identificar chaves comuns para JOIN\n",
    "            common_keys = list(set(df_final.columns) & set(df_temp.columns))\n",
    "            \n",
    "            if common_keys:\n",
    "                print(f\"🔗 Fazendo JOIN com `{table}` usando as chaves {common_keys}\")\n",
    "                df_final = df_final.join(df_temp, common_keys, \"left\")\n",
    "            else:\n",
    "                print(f\"⚠️ Nenhuma chave comum encontrada para `{table}`, pulando...\")\n",
    "        else:\n",
    "            print(f\"⚠️ Tabela `{table}` não carregada, pulando...\")\n",
    "else:\n",
    "    print(\"❌ `one_big_table` não pode ser criada pois o DataFrame base está vazio!\")"
   ]
  },
  {
   "cell_type": "code",
   "execution_count": null,
   "metadata": {},
   "outputs": [],
   "source": [
    "if df_final:\n",
    "    # Criar UniqueID\n",
    "    if \"SalesOrderID\" in df_final.columns and \"SalesOrderDetailID\" in df_final.columns:\n",
    "        df_final = df_final.withColumn(\"UniqueID\", concat_ws(\"-\", col(\"SalesOrderID\"), col(\"SalesOrderDetailID\")))\n",
    "    elif \"CustomerID\" in df_final.columns:\n",
    "        df_final = df_final.withColumn(\"UniqueID\", col(\"CustomerID\"))\n",
    "\n",
    "    # Criar GlobalID\n",
    "    if \"SalesOrderID\" in df_final.columns and \"CustomerID\" in df_final.columns:\n",
    "        df_final = df_final.withColumn(\"GlobalID\", concat_ws(\"-\", col(\"SalesOrderID\"), col(\"CustomerID\")))\n",
    "\n",
    "    print(\"✅ UniqueID e GlobalID criados com sucesso!\")"
   ]
  },
  {
   "cell_type": "code",
   "execution_count": null,
   "metadata": {},
   "outputs": [],
   "source": [
    "if df_final:\n",
    "    # Remover duplicatas antes de salvar\n",
    "    df_final = df_final.dropDuplicates()\n",
    "\n",
=======
   "outputs": [],
   "source": [
    "# Obter todas as tabelas disponíveis no STG\n",
    "stg_tables = [row[\"tableName\"] for row in spark.sql(\"SHOW TABLES IN mateus_marin_stg.sales\").collect()]\n",
    "\n",
    "# Mostrar quais tabelas foram identificadas\n",
    "print(f\"🔍 Tabelas disponíveis na STG: {stg_tables}\")"
   ]
  },
  {
   "cell_type": "code",
   "execution_count": 121,
   "metadata": {},
   "outputs": [],
   "source": [
    "from pyspark.sql.functions import when\n",
    "\n",
    "def rename_conflicting_columns(df, table_name):\n",
    "    \"\"\"\n",
    "    Renomeia colunas `ModifiedDate` e `rowguid` para evitar conflitos de nome antes do JOIN.\n",
    "    Exemplo: `rowguid` da tabela `customer` será `customer_rowguid`.\n",
    "    \"\"\"\n",
    "    if \"ModifiedDate\" in df.columns:\n",
    "        df = df.withColumnRenamed(\"ModifiedDate\", f\"{table_name}_ModifiedDate\")\n",
    "    \n",
    "    if \"rowguid\" in df.columns:\n",
    "        df = df.withColumnRenamed(\"rowguid\", f\"{table_name}_rowguid\")\n",
    "    \n",
    "    return df\n",
    "\n",
    "def load_table(table_name):\n",
    "    \"\"\"\n",
    "    Carrega a tabela STG e aplica correções para minimizar valores NULL.\n",
    "    \"\"\"\n",
    "    try:\n",
    "        df = spark.read.table(f\"{catalog_stg}.sales.{table_name}\")\n",
    "        df = rename_conflicting_columns(df, table_name)\n",
    "\n",
    "        # Corrigir valores NULL dependendo do tipo da coluna\n",
    "        for col_name in df.columns:\n",
    "            dtype = df.schema[col_name].dataType.simpleString()\n",
    "\n",
    "            if dtype.startswith(\"string\"):\n",
    "                df = df.withColumn(col_name, coalesce(col(col_name), lit(\"N/A\")))\n",
    "\n",
    "            elif dtype.startswith(\"int\") or dtype.startswith(\"bigint\") or dtype.startswith(\"smallint\"):\n",
    "                df = df.withColumn(col_name, coalesce(col(col_name), lit(0)))\n",
    "\n",
    "            elif dtype.startswith(\"decimal\") or dtype.startswith(\"double\") or dtype.startswith(\"float\"):\n",
    "                df = df.withColumn(col_name, coalesce(col(col_name), lit(0.0)))\n",
    "\n",
    "            elif dtype.startswith(\"timestamp\") or dtype.startswith(\"date\"):\n",
    "                df = df.withColumn(col_name, coalesce(col(col_name), lit(\"1970-01-01 00:00:00\").cast(\"timestamp\")))\n",
    "\n",
    "        print(f\"✅ `{table_name}` carregada e pré-processada com sucesso!\")\n",
    "        return df\n",
    "\n",
    "    except Exception as e:\n",
    "        print(f\"❌ Erro ao carregar `{table_name}`: {e}\")\n",
    "        return None"
   ]
  },
  {
   "cell_type": "code",
   "execution_count": 122,
   "metadata": {},
   "outputs": [
    {
     "name": "stdout",
     "output_type": "stream",
     "text": [
      "✅ `salesorderheader` carregada e pré-processada com sucesso!\n",
      "✅ `salesorderdetail` carregada e pré-processada com sucesso!\n",
      "✅ JOIN inicial entre SalesOrderDetail e SalesOrderHeader realizado com sucesso!\n"
     ]
    }
   ],
   "source": [
    "# Carregar tabelas necessárias para a criação da `one_big_table`\n",
    "df_salesorderheader = load_table(\"salesorderheader\")\n",
    "df_salesorderdetail = load_table(\"salesorderdetail\")\n",
    "\n",
    "# Garantir que ambas possuem a chave SalesOrderID antes do JOIN\n",
    "if df_salesorderheader and df_salesorderdetail and \"SalesOrderID\" in df_salesorderheader.columns and \"SalesOrderID\" in df_salesorderdetail.columns:\n",
    "    df_final = df_salesorderdetail.join(df_salesorderheader, [\"SalesOrderID\"], \"left\")\n",
    "    print(\"✅ JOIN inicial entre SalesOrderDetail e SalesOrderHeader realizado com sucesso!\")\n",
    "else:\n",
    "    print(\"⚠️ Coluna 'SalesOrderID' não encontrada ou tabelas vazias, pulando JOIN inicial.\")\n",
    "    df_final = df_salesorderdetail if df_salesorderdetail else None"
   ]
  },
  {
   "cell_type": "code",
   "execution_count": 123,
   "metadata": {},
   "outputs": [
    {
     "name": "stdout",
     "output_type": "stream",
     "text": [
      "✅ `customer` carregada e pré-processada com sucesso!\n",
      "🔗 Fazendo JOIN com `customer` usando as chaves ['AccountNumber', 'TerritoryID', 'CustomerID']\n",
      "✅ `salesperson` carregada e pré-processada com sucesso!\n",
      "🔗 Fazendo JOIN com `salesperson` usando as chaves ['TerritoryID']\n",
      "✅ `creditcard` carregada e pré-processada com sucesso!\n",
      "🔗 Fazendo JOIN com `creditcard` usando as chaves ['CreditCardID']\n",
      "✅ `salesterritory` carregada e pré-processada com sucesso!\n",
      "🔗 Fazendo JOIN com `salesterritory` usando as chaves ['TerritoryID', 'SalesYTD', 'SalesLastYear']\n"
     ]
    }
   ],
   "source": [
    "# Lista de tabelas adicionais que serão adicionadas à `one_big_table`\n",
    "tables_to_join = [\"customer\", \"salesperson\", \"creditcard\", \"salesterritory\"]\n",
    "\n",
    "if df_final:\n",
    "    for table in tables_to_join:\n",
    "        df_temp = load_table(table)\n",
    "        \n",
    "        if df_temp:\n",
    "            # Identificar chaves comuns para JOIN\n",
    "            common_keys = list(set(df_final.columns) & set(df_temp.columns))\n",
    "            \n",
    "            if common_keys:\n",
    "                print(f\"🔗 Fazendo JOIN com `{table}` usando as chaves {common_keys}\")\n",
    "                df_final = df_final.join(df_temp, common_keys, \"left\")\n",
    "            else:\n",
    "                print(f\"⚠️ Nenhuma chave comum encontrada para `{table}`, pulando...\")\n",
    "        else:\n",
    "            print(f\"⚠️ Tabela `{table}` não carregada, pulando...\")\n",
    "else:\n",
    "    print(\"❌ `one_big_table` não pode ser criada pois o DataFrame base está vazio!\")"
   ]
  },
  {
   "cell_type": "code",
   "execution_count": 124,
   "metadata": {},
   "outputs": [
    {
     "name": "stdout",
     "output_type": "stream",
     "text": [
      "✅ UniqueID e GlobalID criados com sucesso!\n"
     ]
    }
   ],
   "source": [
    "if df_final:\n",
    "    # Criar UniqueID\n",
    "    if \"SalesOrderID\" in df_final.columns and \"SalesOrderDetailID\" in df_final.columns:\n",
    "        df_final = df_final.withColumn(\"UniqueID\", concat_ws(\"-\", col(\"SalesOrderID\"), col(\"SalesOrderDetailID\")))\n",
    "    elif \"CustomerID\" in df_final.columns:\n",
    "        df_final = df_final.withColumn(\"UniqueID\", col(\"CustomerID\"))\n",
    "\n",
    "    # Criar GlobalID\n",
    "    if \"SalesOrderID\" in df_final.columns and \"CustomerID\" in df_final.columns:\n",
    "        df_final = df_final.withColumn(\"GlobalID\", concat_ws(\"-\", col(\"SalesOrderID\"), col(\"CustomerID\")))\n",
    "\n",
    "    print(\"✅ UniqueID e GlobalID criados com sucesso!\")"
   ]
  },
  {
   "cell_type": "code",
   "execution_count": 125,
   "metadata": {},
   "outputs": [
    {
     "name": "stdout",
     "output_type": "stream",
     "text": [
      "✅ `one_big_table` corrigida e salva com sucesso!\n"
     ]
    }
   ],
   "source": [
    "if df_final:\n",
    "    # Remover duplicatas antes de salvar\n",
    "    df_final = df_final.dropDuplicates()\n",
    "\n",
>>>>>>> Stashed changes
    "    # Salvar a tabela final apenas se houver dados\n",
    "    if df_final.count() > 0:\n",
    "        df_final.write.mode(\"overwrite\").saveAsTable(f\"{catalog_stg}.sales.one_big_table\")\n",
    "        print(\"✅ `one_big_table` corrigida e salva com sucesso!\")\n",
    "    else:\n",
    "        print(\"❌ `one_big_table` não pôde ser criada pois não há dados disponíveis.\")"
   ]
  },
  {
   "cell_type": "code",
<<<<<<< Updated upstream
   "execution_count": null,
   "metadata": {},
   "outputs": [],
=======
   "execution_count": 126,
   "metadata": {},
   "outputs": [
    {
     "name": "stdout",
     "output_type": "stream",
     "text": [
      "📌 Estrutura da `one_big_table`:\n",
      "root\n",
      " |-- TerritoryID: integer (nullable = true)\n",
      " |-- SalesYTD: double (nullable = true)\n",
      " |-- SalesLastYear: double (nullable = true)\n",
      " |-- CreditCardID: integer (nullable = true)\n",
      " |-- AccountNumber: string (nullable = true)\n",
      " |-- CustomerID: integer (nullable = true)\n",
      " |-- SalesOrderID: integer (nullable = false)\n",
      " |-- SalesOrderDetailID: integer (nullable = false)\n",
      " |-- CarrierTrackingNumber: string (nullable = false)\n",
      " |-- OrderQty: integer (nullable = false)\n",
      " |-- ProductID: integer (nullable = false)\n",
      " |-- SpecialOfferID: integer (nullable = false)\n",
      " |-- UnitPrice: double (nullable = false)\n",
      " |-- UnitPriceDiscount: double (nullable = false)\n",
      " |-- LineTotal: double (nullable = false)\n",
      " |-- salesorderdetail_rowguid: string (nullable = false)\n",
      " |-- salesorderdetail_ModifiedDate: timestamp (nullable = true)\n",
      " |-- RevisionNumber: integer (nullable = true)\n",
      " |-- OrderDate: timestamp (nullable = true)\n",
      " |-- DueDate: timestamp (nullable = true)\n",
      " |-- ShipDate: timestamp (nullable = true)\n",
      " |-- Status: integer (nullable = true)\n",
      " |-- OnlineOrderFlag: boolean (nullable = true)\n",
      " |-- SalesOrderNumber: string (nullable = true)\n",
      " |-- PurchaseOrderNumber: string (nullable = true)\n",
      " |-- SalesPersonID: integer (nullable = true)\n",
      " |-- BillToAddressID: integer (nullable = true)\n",
      " |-- ShipToAddressID: integer (nullable = true)\n",
      " |-- ShipMethodID: integer (nullable = true)\n",
      " |-- CreditCardApprovalCode: string (nullable = true)\n",
      " |-- CurrencyRateID: integer (nullable = true)\n",
      " |-- SubTotal: double (nullable = true)\n",
      " |-- TaxAmt: double (nullable = true)\n",
      " |-- Freight: double (nullable = true)\n",
      " |-- TotalDue: double (nullable = true)\n",
      " |-- Comment: string (nullable = true)\n",
      " |-- salesorderheader_rowguid: string (nullable = true)\n",
      " |-- salesorderheader_ModifiedDate: timestamp (nullable = true)\n",
      " |-- PersonID: integer (nullable = true)\n",
      " |-- StoreID: integer (nullable = true)\n",
      " |-- customer_rowguid: string (nullable = true)\n",
      " |-- customer_ModifiedDate: timestamp (nullable = true)\n",
      " |-- BusinessEntityID: integer (nullable = true)\n",
      " |-- SalesQuota: double (nullable = true)\n",
      " |-- Bonus: double (nullable = true)\n",
      " |-- CommissionPct: double (nullable = true)\n",
      " |-- salesperson_rowguid: string (nullable = true)\n",
      " |-- salesperson_ModifiedDate: timestamp (nullable = true)\n",
      " |-- CardType: string (nullable = true)\n",
      " |-- CardNumber: string (nullable = true)\n",
      " |-- ExpMonth: integer (nullable = true)\n",
      " |-- ExpYear: integer (nullable = true)\n",
      " |-- creditcard_ModifiedDate: timestamp (nullable = true)\n",
      " |-- Name: string (nullable = true)\n",
      " |-- CountryRegionCode: string (nullable = true)\n",
      " |-- Group: string (nullable = true)\n",
      " |-- CostYTD: double (nullable = true)\n",
      " |-- CostLastYear: double (nullable = true)\n",
      " |-- salesterritory_rowguid: string (nullable = true)\n",
      " |-- salesterritory_ModifiedDate: timestamp (nullable = true)\n",
      " |-- UniqueID: string (nullable = false)\n",
      " |-- GlobalID: string (nullable = false)\n",
      "\n",
      "📌 Exemplo de dados na `one_big_table`:\n",
      "+-----------+------------+-------------+------------+--------------+----------+------------+------------------+---------------------+--------+---------+--------------+---------+-----------------+---------+------------------------------------+-----------------------------+--------------+-------------------+-------------------+-------------------+------+---------------+----------------+-------------------+-------------+---------------+---------------+------------+----------------------+--------------+--------+--------+-------+---------+-------+------------------------------------+-----------------------------+--------+-------+----------------+---------------------+----------------+----------+------+-------------+------------------------------------+------------------------+-------------+--------------+--------+-------+-----------------------+----+-----------------+-----+-------+------------+----------------------+---------------------------+-----------+-----------+\n",
      "|TerritoryID|SalesYTD    |SalesLastYear|CreditCardID|AccountNumber |CustomerID|SalesOrderID|SalesOrderDetailID|CarrierTrackingNumber|OrderQty|ProductID|SpecialOfferID|UnitPrice|UnitPriceDiscount|LineTotal|salesorderdetail_rowguid            |salesorderdetail_ModifiedDate|RevisionNumber|OrderDate          |DueDate            |ShipDate           |Status|OnlineOrderFlag|SalesOrderNumber|PurchaseOrderNumber|SalesPersonID|BillToAddressID|ShipToAddressID|ShipMethodID|CreditCardApprovalCode|CurrencyRateID|SubTotal|TaxAmt  |Freight|TotalDue |Comment|salesorderheader_rowguid            |salesorderheader_ModifiedDate|PersonID|StoreID|customer_rowguid|customer_ModifiedDate|BusinessEntityID|SalesQuota|Bonus |CommissionPct|salesperson_rowguid                 |salesperson_ModifiedDate|CardType     |CardNumber    |ExpMonth|ExpYear|creditcard_ModifiedDate|Name|CountryRegionCode|Group|CostYTD|CostLastYear|salesterritory_rowguid|salesterritory_ModifiedDate|UniqueID   |GlobalID   |\n",
      "+-----------+------------+-------------+------------+--------------+----------+------------+------------------+---------------------+--------+---------+--------------+---------+-----------------+---------+------------------------------------+-----------------------------+--------------+-------------------+-------------------+-------------------+------+---------------+----------------+-------------------+-------------+---------------+---------------+------------+----------------------+--------------+--------+--------+-------+---------+-------+------------------------------------+-----------------------------+--------+-------+----------------+---------------------+----------------+----------+------+-------------+------------------------------------+------------------------+-------------+--------------+--------+-------+-----------------------+----+-----------------+-----+-------+------------+----------------------+---------------------------+-----------+-----------+\n",
      "|1          |1573012.9383|1371635.3158 |12509       |10-4030-013102|13102     |55913       |57652             |N/A                  |1       |784      |1             |2294.99  |0.0              |2294.99  |C68C5786-7B22-4BE4-93D3-6911FA22876C|2013-09-08 00:00:00          |8             |2013-09-08 00:00:00|2013-09-20 00:00:00|2013-09-15 00:00:00|5     |true           |SO55913         |N/A                |0            |17152          |17152          |1           |137202Vi64724         |0             |2386.94 |190.9552|59.6735|2637.5687|N/A    |55A97899-1A81-4B2D-B3CC-96E0689BA850|2013-09-15 00:00:00          |NULL    |NULL   |NULL            |NULL                 |283             |250000.0  |3500.0|0.012        |6BAC15B2-8FFB-45A9-B6D5-040E16C2073F|2011-05-24 00:00:00     |Distinguish  |55554063956582|5       |2007   |2013-09-08 00:00:00    |NULL|NULL             |NULL |NULL   |NULL        |NULL                  |NULL                       |55913-57652|55913-13102|\n",
      "|4          |2458535.6169|2073505.9999 |17182       |10-4030-024772|24772     |55984       |57840             |N/A                  |1       |933      |1             |32.6     |0.0              |32.6     |33737AA2-21AF-4D8E-BCCD-C2A7FBB58AF8|2013-09-10 00:00:00          |8             |2013-09-10 00:00:00|2013-09-22 00:00:00|2013-09-17 00:00:00|5     |true           |SO55984         |N/A                |0            |15100          |15100          |1           |122241Vi89161         |0             |195.59  |15.6472 |4.8898 |216.127  |N/A    |6FC1E141-FDCA-4336-B5FE-AA3DF9FCD377|2013-09-17 00:00:00          |NULL    |NULL   |NULL            |NULL                 |281             |250000.0  |3550.0|0.01         |35326DDB-7278-4FEF-B3BA-EA137B69094E|2011-05-24 00:00:00     |ColonialVoice|77779162692402|5       |2005   |2013-09-10 00:00:00    |NULL|NULL             |NULL |NULL   |NULL        |NULL                  |NULL                       |55984-57840|55984-24772|\n",
      "|7          |3121616.3202|2396539.7601 |15629       |10-4030-028379|28379     |55996       |57867             |N/A                  |1       |860      |1             |24.49    |0.0              |24.49    |94179AA8-B4C3-4360-87B9-FAA0B0A5465F|2013-09-10 00:00:00          |8             |2013-09-10 00:00:00|2013-09-22 00:00:00|2013-09-17 00:00:00|5     |true           |SO55996         |N/A                |0            |17191          |17191          |1           |926786Vi80743         |0             |61.08   |4.8864  |1.527  |67.4934  |N/A    |4656D027-2301-419E-ACA6-74A34BC4A646|2013-09-17 00:00:00          |NULL    |NULL   |NULL            |NULL                 |290             |250000.0  |985.0 |0.016        |F509E3D4-76C8-42AA-B353-90B7B8DB08DE|2012-05-23 00:00:00     |ColonialVoice|77779887334079|7       |2006   |2013-09-10 00:00:00    |NULL|NULL             |NULL |NULL   |NULL        |NULL                  |NULL                       |55996-57867|55996-28379|\n",
      "|4          |2458535.6169|2073505.9999 |15913       |10-4030-024513|24513     |56034       |57963             |N/A                  |1       |933      |1             |32.6     |0.0              |32.6     |8E1690CD-D7CA-4CD6-A747-CE02FBF22B6B|2013-09-11 00:00:00          |8             |2013-09-11 00:00:00|2013-09-23 00:00:00|2013-09-18 00:00:00|5     |true           |SO56034         |N/A                |0            |21591          |21591          |1           |1222390Vi82197        |0             |38.88   |3.1104  |0.972  |42.9624  |N/A    |8E634F85-3DF5-485B-96AF-82904EB8DECA|2013-09-18 00:00:00          |NULL    |NULL   |NULL            |NULL                 |281             |250000.0  |3550.0|0.01         |35326DDB-7278-4FEF-B3BA-EA137B69094E|2011-05-24 00:00:00     |SuperiorCard |33331602584409|1       |2005   |2013-09-11 00:00:00    |NULL|NULL             |NULL |NULL   |NULL        |NULL                  |NULL                       |56034-57963|56034-24513|\n",
      "|6          |1453719.4653|1620276.8966 |18783       |10-4030-013267|13267     |56048       |58000             |N/A                  |1       |921      |1             |4.99     |0.0              |4.99     |D5B3F8F3-9C16-411F-BE88-20EC131736F6|2013-09-11 00:00:00          |8             |2013-09-11 00:00:00|2013-09-23 00:00:00|2013-09-18 00:00:00|5     |true           |SO56048         |N/A                |0            |27916          |27916          |1           |1229178Vi97612        |9546          |74.98   |5.9984  |1.8745 |82.8529  |N/A    |178791DE-2AEF-4A7E-90FA-99971E70E161|2013-09-18 00:00:00          |NULL    |NULL   |NULL            |NULL                 |278             |250000.0  |500.0 |0.01         |7A0AE1AB-B283-40F9-91D1-167ABF06D720|2011-05-24 00:00:00     |Distinguish  |55551740560462|8       |2006   |2013-09-11 00:00:00    |NULL|NULL             |NULL |NULL   |NULL        |NULL                  |NULL                       |56048-58000|56048-13267|\n",
      "|4          |2458535.6169|2073505.9999 |4387        |10-4030-013208|13208     |56058       |58024             |N/A                  |1       |921      |1             |4.99     |0.0              |4.99     |12D11C5F-E1A9-4233-9CFF-7FF84C04223E|2013-09-11 00:00:00          |8             |2013-09-11 00:00:00|2013-09-23 00:00:00|2013-09-18 00:00:00|5     |true           |SO56058         |N/A                |0            |15876          |15876          |1           |1237184Vi23036        |0             |2369.97 |189.5976|59.2493|2618.8169|N/A    |1F12F7FF-E4BF-4A09-AF2B-42BDE5EFB0F2|2013-09-18 00:00:00          |NULL    |NULL   |NULL            |NULL                 |281             |250000.0  |3550.0|0.01         |35326DDB-7278-4FEF-B3BA-EA137B69094E|2011-05-24 00:00:00     |Vista        |11116075364991|11      |2005   |2012-06-01 00:00:00    |NULL|NULL             |NULL |NULL   |NULL        |NULL                  |NULL                       |56058-58024|56058-13208|\n",
      "|1          |1352577.1325|1927059.178  |4103        |10-4030-023002|23002     |56080       |58074             |N/A                  |1       |921      |1             |4.99     |0.0              |4.99     |BD6A4F5E-965B-4AB0-95A7-ECB4A15646FE|2013-09-12 00:00:00          |8             |2013-09-12 00:00:00|2013-09-24 00:00:00|2013-09-19 00:00:00|5     |true           |SO56080         |N/A                |0            |20013          |20013          |1           |523226Vi21531         |0             |67.2    |5.376   |1.68   |74.256   |N/A    |340F8F94-EDFA-4CAA-9EF1-2BFD4A5D5D4C|2013-09-19 00:00:00          |NULL    |NULL   |NULL            |NULL                 |280             |250000.0  |5000.0|0.01         |BE941A4A-FB50-4947-BDA4-BB8972365B08|2011-05-24 00:00:00     |SuperiorCard |33335134539678|12      |2005   |2013-09-12 00:00:00    |NULL|NULL             |NULL |NULL   |NULL        |NULL                  |NULL                       |56080-58074|56080-23002|\n",
      "|1          |1576562.1966|0.0          |17345       |10-4030-011013|11013     |56137       |58220             |N/A                  |1       |922      |1             |3.99     |0.0              |3.99     |E7191176-8544-4E8D-A17D-2E091EFBB14A|2013-09-13 00:00:00          |8             |2013-09-13 00:00:00|2013-09-25 00:00:00|2013-09-20 00:00:00|5     |true           |SO56137         |N/A                |0            |22943          |22943          |1           |1120879Vi90113        |0             |38.98   |3.1184  |0.9745 |43.0729  |N/A    |93D3812E-4264-46A4-8A95-1C0BF03A9EFE|2013-09-20 00:00:00          |NULL    |NULL   |NULL            |NULL                 |284             |300000.0  |3900.0|0.019        |AC94EC04-A2DC-43E3-8654-DD0C546ABC17|2012-09-23 00:00:00     |SuperiorCard |33336718306044|9       |2005   |2013-09-13 00:00:00    |NULL|NULL             |NULL |NULL   |NULL        |NULL                  |NULL                       |56137-58220|56137-11013|\n",
      "|1          |1352577.1325|1927059.178  |17345       |10-4030-011013|11013     |56137       |58221             |N/A                  |1       |708      |1             |34.99    |0.0              |34.99    |D7051012-8FE2-4EF1-9337-CE8D33242345|2013-09-13 00:00:00          |8             |2013-09-13 00:00:00|2013-09-25 00:00:00|2013-09-20 00:00:00|5     |true           |SO56137         |N/A                |0            |22943          |22943          |1           |1120879Vi90113        |0             |38.98   |3.1184  |0.9745 |43.0729  |N/A    |93D3812E-4264-46A4-8A95-1C0BF03A9EFE|2013-09-20 00:00:00          |NULL    |NULL   |NULL            |NULL                 |280             |250000.0  |5000.0|0.01         |BE941A4A-FB50-4947-BDA4-BB8972365B08|2011-05-24 00:00:00     |SuperiorCard |33336718306044|9       |2005   |2013-09-13 00:00:00    |NULL|NULL             |NULL |NULL   |NULL        |NULL                  |NULL                       |56137-58221|56137-11013|\n",
      "|1          |1352577.1325|1927059.178  |11570       |10-4030-011541|11541     |56176       |58316             |N/A                  |1       |780      |1             |2319.99  |0.0              |2319.99  |034AF5DF-89E6-41CE-AB2C-646EAC0B77FB|2013-09-13 00:00:00          |8             |2013-09-13 00:00:00|2013-09-25 00:00:00|2013-09-20 00:00:00|5     |true           |SO56176         |N/A                |0            |21972          |21972          |1           |537504Vi59807         |0             |2394.97 |191.5976|59.8743|2646.4419|N/A    |47E87149-16B3-4222-AF9A-33942B4D41B9|2013-09-20 00:00:00          |NULL    |NULL   |NULL            |NULL                 |280             |250000.0  |5000.0|0.01         |BE941A4A-FB50-4947-BDA4-BB8972365B08|2011-05-24 00:00:00     |ColonialVoice|77775359037496|4       |2008   |2012-02-12 00:00:00    |NULL|NULL             |NULL |NULL   |NULL        |NULL                  |NULL                       |56176-58316|56176-11541|\n",
      "+-----------+------------+-------------+------------+--------------+----------+------------+------------------+---------------------+--------+---------+--------------+---------+-----------------+---------+------------------------------------+-----------------------------+--------------+-------------------+-------------------+-------------------+------+---------------+----------------+-------------------+-------------+---------------+---------------+------------+----------------------+--------------+--------+--------+-------+---------+-------+------------------------------------+-----------------------------+--------+-------+----------------+---------------------+----------------+----------+------+-------------+------------------------------------+------------------------+-------------+--------------+--------+-------+-----------------------+----+-----------------+-----+-------+------------+----------------------+---------------------------+-----------+-----------+\n",
      "only showing top 10 rows\n",
      "\n",
      "📌 Contagem de valores nulos por coluna:\n",
      "+-----------+--------+-------------+------------+-------------+----------+------------+------------------+---------------------+--------+---------+--------------+---------+-----------------+---------+------------------------+-----------------------------+--------------+---------+-------+--------+------+---------------+----------------+-------------------+-------------+---------------+---------------+------------+----------------------+--------------+--------+------+-------+--------+-------+------------------------+-----------------------------+--------+-------+----------------+---------------------+----------------+----------+-----+-------------+-------------------+------------------------+--------+----------+--------+-------+-----------------------+------+-----------------+------+-------+------------+----------------------+---------------------------+--------+--------+\n",
      "|TerritoryID|SalesYTD|SalesLastYear|CreditCardID|AccountNumber|CustomerID|SalesOrderID|SalesOrderDetailID|CarrierTrackingNumber|OrderQty|ProductID|SpecialOfferID|UnitPrice|UnitPriceDiscount|LineTotal|salesorderdetail_rowguid|salesorderdetail_ModifiedDate|RevisionNumber|OrderDate|DueDate|ShipDate|Status|OnlineOrderFlag|SalesOrderNumber|PurchaseOrderNumber|SalesPersonID|BillToAddressID|ShipToAddressID|ShipMethodID|CreditCardApprovalCode|CurrencyRateID|SubTotal|TaxAmt|Freight|TotalDue|Comment|salesorderheader_rowguid|salesorderheader_ModifiedDate|PersonID|StoreID|customer_rowguid|customer_ModifiedDate|BusinessEntityID|SalesQuota|Bonus|CommissionPct|salesperson_rowguid|salesperson_ModifiedDate|CardType|CardNumber|ExpMonth|ExpYear|creditcard_ModifiedDate|Name  |CountryRegionCode|Group |CostYTD|CostLastYear|salesterritory_rowguid|salesterritory_ModifiedDate|UniqueID|GlobalID|\n",
      "+-----------+--------+-------------+------------+-------------+----------+------------+------------------+---------------------+--------+---------+--------------+---------+-----------------+---------+------------------------+-----------------------------+--------------+---------+-------+--------+------+---------------+----------------+-------------------+-------------+---------------+---------------+------------+----------------------+--------------+--------+------+-------+--------+-------+------------------------+-----------------------------+--------+-------+----------------+---------------------+----------------+----------+-----+-------------+-------------------+------------------------+--------+----------+--------+-------+-----------------------+------+-----------------+------+-------+------------+----------------------+---------------------------+--------+--------+\n",
      "|0          |0       |0            |0           |0            |0         |0           |0                 |0                    |0       |0        |0             |0        |0                |0        |0                       |0                            |0             |0        |0      |0       |0     |0              |0               |0                  |0            |0              |0              |0           |0                     |0             |0       |0     |0      |0       |0      |0                       |0                            |199755  |199755 |199755          |199755               |0               |0         |0    |0            |0                  |0                       |3862    |3862      |3862    |3862   |3862                   |199755|199755           |199755|199755 |199755      |199755                |199755                     |0       |0       |\n",
      "+-----------+--------+-------------+------------+-------------+----------+------------+------------------+---------------------+--------+---------+--------------+---------+-----------------+---------+------------------------+-----------------------------+--------------+---------+-------+--------+------+---------------+----------------+-------------------+-------------+---------------+---------------+------------+----------------------+--------------+--------+------+-------+--------+-------+------------------------+-----------------------------+--------+-------+----------------+---------------------+----------------+----------+-----+-------------+-------------------+------------------------+--------+----------+--------+-------+-----------------------+------+-----------------+------+-------+------------+----------------------+---------------------------+--------+--------+\n",
      "\n",
      "❌ Registros sem UniqueID: 0\n",
      "❌ Registros sem GlobalID: 0\n",
      "📌 Exemplo de registros sem UniqueID:\n",
      "+-----------+--------+-------------+------------+-------------+----------+------------+------------------+---------------------+--------+---------+--------------+---------+-----------------+---------+------------------------+-----------------------------+--------------+---------+-------+--------+------+---------------+----------------+-------------------+-------------+---------------+---------------+------------+----------------------+--------------+--------+------+-------+--------+-------+------------------------+-----------------------------+--------+-------+----------------+---------------------+----------------+----------+-----+-------------+-------------------+------------------------+--------+----------+--------+-------+-----------------------+----+-----------------+-----+-------+------------+----------------------+---------------------------+--------+--------+\n",
      "|TerritoryID|SalesYTD|SalesLastYear|CreditCardID|AccountNumber|CustomerID|SalesOrderID|SalesOrderDetailID|CarrierTrackingNumber|OrderQty|ProductID|SpecialOfferID|UnitPrice|UnitPriceDiscount|LineTotal|salesorderdetail_rowguid|salesorderdetail_ModifiedDate|RevisionNumber|OrderDate|DueDate|ShipDate|Status|OnlineOrderFlag|SalesOrderNumber|PurchaseOrderNumber|SalesPersonID|BillToAddressID|ShipToAddressID|ShipMethodID|CreditCardApprovalCode|CurrencyRateID|SubTotal|TaxAmt|Freight|TotalDue|Comment|salesorderheader_rowguid|salesorderheader_ModifiedDate|PersonID|StoreID|customer_rowguid|customer_ModifiedDate|BusinessEntityID|SalesQuota|Bonus|CommissionPct|salesperson_rowguid|salesperson_ModifiedDate|CardType|CardNumber|ExpMonth|ExpYear|creditcard_ModifiedDate|Name|CountryRegionCode|Group|CostYTD|CostLastYear|salesterritory_rowguid|salesterritory_ModifiedDate|UniqueID|GlobalID|\n",
      "+-----------+--------+-------------+------------+-------------+----------+------------+------------------+---------------------+--------+---------+--------------+---------+-----------------+---------+------------------------+-----------------------------+--------------+---------+-------+--------+------+---------------+----------------+-------------------+-------------+---------------+---------------+------------+----------------------+--------------+--------+------+-------+--------+-------+------------------------+-----------------------------+--------+-------+----------------+---------------------+----------------+----------+-----+-------------+-------------------+------------------------+--------+----------+--------+-------+-----------------------+----+-----------------+-----+-------+------------+----------------------+---------------------------+--------+--------+\n",
      "+-----------+--------+-------------+------------+-------------+----------+------------+------------------+---------------------+--------+---------+--------------+---------+-----------------+---------+------------------------+-----------------------------+--------------+---------+-------+--------+------+---------------+----------------+-------------------+-------------+---------------+---------------+------------+----------------------+--------------+--------+------+-------+--------+-------+------------------------+-----------------------------+--------+-------+----------------+---------------------+----------------+----------+-----+-------------+-------------------+------------------------+--------+----------+--------+-------+-----------------------+----+-----------------+-----+-------+------------+----------------------+---------------------------+--------+--------+\n",
      "\n",
      "📌 Colunas duplicadas (se houver): []\n",
      "+-----------+------------+-------------+------------+--------------+----------+------------+------------------+---------------------+--------+---------+--------------+---------+-----------------+---------+------------------------------------+-----------------------------+--------------+-------------------+-------------------+-------------------+------+---------------+----------------+-------------------+-------------+---------------+---------------+------------+----------------------+--------------+--------+--------+-------+---------+-------+------------------------------------+-----------------------------+--------+-------+----------------+---------------------+----------------+----------+------+-------------+------------------------------------+------------------------+-------------+--------------+--------+-------+-----------------------+----+-----------------+-----+-------+------------+----------------------+---------------------------+-----------+-----------+\n",
      "|TerritoryID|SalesYTD    |SalesLastYear|CreditCardID|AccountNumber |CustomerID|SalesOrderID|SalesOrderDetailID|CarrierTrackingNumber|OrderQty|ProductID|SpecialOfferID|UnitPrice|UnitPriceDiscount|LineTotal|salesorderdetail_rowguid            |salesorderdetail_ModifiedDate|RevisionNumber|OrderDate          |DueDate            |ShipDate           |Status|OnlineOrderFlag|SalesOrderNumber|PurchaseOrderNumber|SalesPersonID|BillToAddressID|ShipToAddressID|ShipMethodID|CreditCardApprovalCode|CurrencyRateID|SubTotal|TaxAmt  |Freight|TotalDue |Comment|salesorderheader_rowguid            |salesorderheader_ModifiedDate|PersonID|StoreID|customer_rowguid|customer_ModifiedDate|BusinessEntityID|SalesQuota|Bonus |CommissionPct|salesperson_rowguid                 |salesperson_ModifiedDate|CardType     |CardNumber    |ExpMonth|ExpYear|creditcard_ModifiedDate|Name|CountryRegionCode|Group|CostYTD|CostLastYear|salesterritory_rowguid|salesterritory_ModifiedDate|UniqueID   |GlobalID   |\n",
      "+-----------+------------+-------------+------------+--------------+----------+------------+------------------+---------------------+--------+---------+--------------+---------+-----------------+---------+------------------------------------+-----------------------------+--------------+-------------------+-------------------+-------------------+------+---------------+----------------+-------------------+-------------+---------------+---------------+------------+----------------------+--------------+--------+--------+-------+---------+-------+------------------------------------+-----------------------------+--------+-------+----------------+---------------------+----------------+----------+------+-------------+------------------------------------+------------------------+-------------+--------------+--------+-------+-----------------------+----+-----------------+-----+-------+------------+----------------------+---------------------------+-----------+-----------+\n",
      "|1          |1573012.9383|1371635.3158 |12509       |10-4030-013102|13102     |55913       |57652             |N/A                  |1       |784      |1             |2294.99  |0.0              |2294.99  |C68C5786-7B22-4BE4-93D3-6911FA22876C|2013-09-08 00:00:00          |8             |2013-09-08 00:00:00|2013-09-20 00:00:00|2013-09-15 00:00:00|5     |true           |SO55913         |N/A                |0            |17152          |17152          |1           |137202Vi64724         |0             |2386.94 |190.9552|59.6735|2637.5687|N/A    |55A97899-1A81-4B2D-B3CC-96E0689BA850|2013-09-15 00:00:00          |NULL    |NULL   |NULL            |NULL                 |283             |250000.0  |3500.0|0.012        |6BAC15B2-8FFB-45A9-B6D5-040E16C2073F|2011-05-24 00:00:00     |Distinguish  |55554063956582|5       |2007   |2013-09-08 00:00:00    |NULL|NULL             |NULL |NULL   |NULL        |NULL                  |NULL                       |55913-57652|55913-13102|\n",
      "|4          |2458535.6169|2073505.9999 |17182       |10-4030-024772|24772     |55984       |57840             |N/A                  |1       |933      |1             |32.6     |0.0              |32.6     |33737AA2-21AF-4D8E-BCCD-C2A7FBB58AF8|2013-09-10 00:00:00          |8             |2013-09-10 00:00:00|2013-09-22 00:00:00|2013-09-17 00:00:00|5     |true           |SO55984         |N/A                |0            |15100          |15100          |1           |122241Vi89161         |0             |195.59  |15.6472 |4.8898 |216.127  |N/A    |6FC1E141-FDCA-4336-B5FE-AA3DF9FCD377|2013-09-17 00:00:00          |NULL    |NULL   |NULL            |NULL                 |281             |250000.0  |3550.0|0.01         |35326DDB-7278-4FEF-B3BA-EA137B69094E|2011-05-24 00:00:00     |ColonialVoice|77779162692402|5       |2005   |2013-09-10 00:00:00    |NULL|NULL             |NULL |NULL   |NULL        |NULL                  |NULL                       |55984-57840|55984-24772|\n",
      "|7          |3121616.3202|2396539.7601 |15629       |10-4030-028379|28379     |55996       |57867             |N/A                  |1       |860      |1             |24.49    |0.0              |24.49    |94179AA8-B4C3-4360-87B9-FAA0B0A5465F|2013-09-10 00:00:00          |8             |2013-09-10 00:00:00|2013-09-22 00:00:00|2013-09-17 00:00:00|5     |true           |SO55996         |N/A                |0            |17191          |17191          |1           |926786Vi80743         |0             |61.08   |4.8864  |1.527  |67.4934  |N/A    |4656D027-2301-419E-ACA6-74A34BC4A646|2013-09-17 00:00:00          |NULL    |NULL   |NULL            |NULL                 |290             |250000.0  |985.0 |0.016        |F509E3D4-76C8-42AA-B353-90B7B8DB08DE|2012-05-23 00:00:00     |ColonialVoice|77779887334079|7       |2006   |2013-09-10 00:00:00    |NULL|NULL             |NULL |NULL   |NULL        |NULL                  |NULL                       |55996-57867|55996-28379|\n",
      "|4          |2458535.6169|2073505.9999 |15913       |10-4030-024513|24513     |56034       |57963             |N/A                  |1       |933      |1             |32.6     |0.0              |32.6     |8E1690CD-D7CA-4CD6-A747-CE02FBF22B6B|2013-09-11 00:00:00          |8             |2013-09-11 00:00:00|2013-09-23 00:00:00|2013-09-18 00:00:00|5     |true           |SO56034         |N/A                |0            |21591          |21591          |1           |1222390Vi82197        |0             |38.88   |3.1104  |0.972  |42.9624  |N/A    |8E634F85-3DF5-485B-96AF-82904EB8DECA|2013-09-18 00:00:00          |NULL    |NULL   |NULL            |NULL                 |281             |250000.0  |3550.0|0.01         |35326DDB-7278-4FEF-B3BA-EA137B69094E|2011-05-24 00:00:00     |SuperiorCard |33331602584409|1       |2005   |2013-09-11 00:00:00    |NULL|NULL             |NULL |NULL   |NULL        |NULL                  |NULL                       |56034-57963|56034-24513|\n",
      "|6          |1453719.4653|1620276.8966 |18783       |10-4030-013267|13267     |56048       |58000             |N/A                  |1       |921      |1             |4.99     |0.0              |4.99     |D5B3F8F3-9C16-411F-BE88-20EC131736F6|2013-09-11 00:00:00          |8             |2013-09-11 00:00:00|2013-09-23 00:00:00|2013-09-18 00:00:00|5     |true           |SO56048         |N/A                |0            |27916          |27916          |1           |1229178Vi97612        |9546          |74.98   |5.9984  |1.8745 |82.8529  |N/A    |178791DE-2AEF-4A7E-90FA-99971E70E161|2013-09-18 00:00:00          |NULL    |NULL   |NULL            |NULL                 |278             |250000.0  |500.0 |0.01         |7A0AE1AB-B283-40F9-91D1-167ABF06D720|2011-05-24 00:00:00     |Distinguish  |55551740560462|8       |2006   |2013-09-11 00:00:00    |NULL|NULL             |NULL |NULL   |NULL        |NULL                  |NULL                       |56048-58000|56048-13267|\n",
      "+-----------+------------+-------------+------------+--------------+----------+------------+------------------+---------------------+--------+---------+--------------+---------+-----------------+---------+------------------------------------+-----------------------------+--------------+-------------------+-------------------+-------------------+------+---------------+----------------+-------------------+-------------+---------------+---------------+------------+----------------------+--------------+--------+--------+-------+---------+-------+------------------------------------+-----------------------------+--------+-------+----------------+---------------------+----------------+----------+------+-------------+------------------------------------+------------------------+-------------+--------------+--------+-------+-----------------------+----+-----------------+-----+-------+------------+----------------------+---------------------------+-----------+-----------+\n",
      "only showing top 5 rows\n",
      "\n"
     ]
    }
   ],
>>>>>>> Stashed changes
   "source": [
    "if df_final:\n",
    "    # Exibir estrutura final\n",
    "    print(\"📌 Estrutura da `one_big_table`:\")\n",
    "    df_final.printSchema()\n",
    "\n",
    "    print(\"📌 Exemplo de dados na `one_big_table`:\")\n",
    "    df_final.show(10, False)\n",
    "\n",
    "    from pyspark.sql.functions import sum\n",
    "\n",
    "    # Contagem de valores nulos por coluna\n",
    "    print(\"📌 Contagem de valores nulos por coluna:\")\n",
    "    null_counts = df_final.select([sum(col(c).isNull().cast(\"int\")).alias(c) for c in df_final.columns])\n",
    "    null_counts.show(truncate=False)\n",
    "\n",
    "    # Contagem de registros sem UniqueID e GlobalID\n",
    "    missing_uniqueid_count = df_final.filter(col(\"UniqueID\").isNull()).count()\n",
    "    missing_globalid_count = df_final.filter(col(\"GlobalID\").isNull()).count()\n",
    "    print(f\"❌ Registros sem UniqueID: {missing_uniqueid_count}\")\n",
    "    print(f\"❌ Registros sem GlobalID: {missing_globalid_count}\")\n",
    "\n",
    "    # Exemplo de registros sem UniqueID\n",
    "    print(\"📌 Exemplo de registros sem UniqueID:\")\n",
    "    df_final.filter(col(\"UniqueID\").isNull()).show(10, False)\n",
    "\n",
    "    # Verificar colunas duplicadas\n",
    "    duplicate_cols = [c for c in df_final.columns if df_final.columns.count(c) > 1]\n",
    "    print(f\"📌 Colunas duplicadas (se houver): {duplicate_cols}\")\n",
    "\n",
    "    # Exibir as primeiras linhas para conferência geral\n",
    "    df_final.show(5, False)"
   ]
  },
  {
   "cell_type": "code",
   "execution_count": null,
   "metadata": {},
   "outputs": [],
   "source": [
    "# Obter a lista de tabelas no schema sales do catalog STG\n",
    "#tables_query = \"SHOW TABLES IN mateus_marin_stg.sales\"\n",
    "#df_tables = spark.sql(tables_query)\n",
    "#\n",
    "## Criar lista de tabelas\n",
    "#tables_list = [row.tableName for row in df_tables.collect()]\n",
    "#\n",
    "## Loop para dropar cada tabela individualmente\n",
    "#for table in tables_list:\n",
    "#    drop_query = f\"DROP TABLE IF EXISTS mateus_marin_stg.sales.{table}\"\n",
    "#    spark.sql(drop_query)\n",
    "#    print(f\"Tabela {table} removida com sucesso! ✅\")"
   ]
  }
 ],
 "metadata": {
  "application/vnd.databricks.v1+notebook": {
   "dashboards": [],
   "language": "python",
   "notebookMetadata": {
    "pythonIndentUnit": 2
   },
   "notebookName": "notebook",
   "widgets": {}
  },
  "kernelspec": {
   "display_name": ".venv",
   "language": "python",
   "name": "python3"
  },
  "language_info": {
   "codemirror_mode": {
    "name": "ipython",
    "version": 3
   },
   "file_extension": ".py",
   "mimetype": "text/x-python",
   "name": "python",
   "nbconvert_exporter": "python",
   "pygments_lexer": "ipython3",
   "version": "3.11.11"
  }
 },
 "nbformat": 4,
 "nbformat_minor": 0
}
